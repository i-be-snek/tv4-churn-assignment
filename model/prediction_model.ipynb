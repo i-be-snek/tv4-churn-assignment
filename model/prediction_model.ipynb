{
 "cells": [
  {
   "cell_type": "markdown",
   "metadata": {},
   "source": [
    "# Building a good model\n",
    "\n",
    "## Candidate algorithms: \n",
    "\n",
    "### 1. logistic regression\n",
    "- This is suitable for binary classification and is the litmus test for testing data's linearity, which I am not sure of.\n",
    "- I will drop some features with missing data points.\n",
    "\n",
    "### 2. Random forests\n",
    "- Random forest classification can deal well with categorical data such as the `PRODUCT´ feature. \n",
    "- It will also not require any One-Hot-Encoding, and adding that would actually introduce sparsity we don't want.\n",
    "- This is also a good candidate for improving recall in imbalanced classes.\n"
   ]
  },
  {
   "cell_type": "code",
   "execution_count": 1,
   "metadata": {},
   "outputs": [
    {
     "name": "stdout",
     "output_type": "stream",
     "text": [
      "Requirement already satisfied: pandas in /usr/local/lib/python3.9/site-packages (1.1.5)\n",
      "Requirement already satisfied: python-dateutil>=2.7.3 in /usr/local/lib/python3.9/site-packages (from pandas) (2.8.1)\n",
      "Requirement already satisfied: pytz>=2017.2 in /usr/local/lib/python3.9/site-packages (from pandas) (2020.4)\n",
      "Requirement already satisfied: numpy>=1.15.4 in /usr/local/lib/python3.9/site-packages (from pandas) (1.19.4)\n",
      "Requirement already satisfied: six>=1.5 in /usr/local/lib/python3.9/site-packages (from python-dateutil>=2.7.3->pandas) (1.15.0)\n",
      "\u001b[33mWARNING: You are using pip version 21.1.1; however, version 21.3 is available.\n",
      "You should consider upgrading via the '/usr/local/opt/python@3.9/bin/python3.9 -m pip install --upgrade pip' command.\u001b[0m\n",
      "Note: you may need to restart the kernel to use updated packages.\n",
      "Requirement already satisfied: numpy in /usr/local/lib/python3.9/site-packages (1.19.4)\n",
      "\u001b[33mWARNING: You are using pip version 21.1.1; however, version 21.3 is available.\n",
      "You should consider upgrading via the '/usr/local/opt/python@3.9/bin/python3.9 -m pip install --upgrade pip' command.\u001b[0m\n",
      "Note: you may need to restart the kernel to use updated packages.\n",
      "Requirement already satisfied: seaborn in /usr/local/lib/python3.9/site-packages (0.11.2)\n",
      "Requirement already satisfied: matplotlib>=2.2 in /usr/local/lib/python3.9/site-packages (from seaborn) (3.4.3)\n",
      "Requirement already satisfied: scipy>=1.0 in /usr/local/lib/python3.9/site-packages (from seaborn) (1.7.1)\n",
      "Requirement already satisfied: numpy>=1.15 in /usr/local/lib/python3.9/site-packages (from seaborn) (1.19.4)\n",
      "Requirement already satisfied: pandas>=0.23 in /usr/local/lib/python3.9/site-packages (from seaborn) (1.1.5)\n",
      "Requirement already satisfied: kiwisolver>=1.0.1 in /usr/local/lib/python3.9/site-packages (from matplotlib>=2.2->seaborn) (1.3.2)\n",
      "Requirement already satisfied: cycler>=0.10 in /usr/local/lib/python3.9/site-packages (from matplotlib>=2.2->seaborn) (0.10.0)\n",
      "Requirement already satisfied: python-dateutil>=2.7 in /usr/local/lib/python3.9/site-packages (from matplotlib>=2.2->seaborn) (2.8.1)\n",
      "Requirement already satisfied: pyparsing>=2.2.1 in /usr/local/lib/python3.9/site-packages (from matplotlib>=2.2->seaborn) (2.4.7)\n",
      "Requirement already satisfied: pillow>=6.2.0 in /usr/local/lib/python3.9/site-packages (from matplotlib>=2.2->seaborn) (8.3.2)\n",
      "Requirement already satisfied: six in /usr/local/lib/python3.9/site-packages (from cycler>=0.10->matplotlib>=2.2->seaborn) (1.15.0)\n",
      "Requirement already satisfied: pytz>=2017.2 in /usr/local/lib/python3.9/site-packages (from pandas>=0.23->seaborn) (2020.4)\n",
      "\u001b[33mWARNING: You are using pip version 21.1.1; however, version 21.3 is available.\n",
      "You should consider upgrading via the '/usr/local/opt/python@3.9/bin/python3.9 -m pip install --upgrade pip' command.\u001b[0m\n",
      "Note: you may need to restart the kernel to use updated packages.\n"
     ]
    }
   ],
   "source": [
    "%pip install pandas\n",
    "%pip install numpy\n",
    "%pip install seaborn"
   ]
  },
  {
   "cell_type": "code",
   "execution_count": 2,
   "metadata": {},
   "outputs": [],
   "source": [
    "import pandas as pd\n",
    "import numpy as np\n",
    "from sklearn.model_selection import train_test_split\n",
    "from sklearn.decomposition import PCA # dimension reduction\n",
    "\n",
    "from sklearn.manifold import TSNE\n",
    "from sklearn.cluster import KMeans # experimineting\n",
    "\n",
    "from sklearn.preprocessing import StandardScaler #scaling\n",
    "\n",
    "from sklearn.pipeline import Pipeline # training pipeline\n",
    "from sklearn.ensemble import RandomForestClassifier #1\n",
    "from sklearn.linear_model import LogisticRegression #2\n",
    "from sklearn.model_selection import GridSearchCV # optimization\n",
    "\n",
    "# reporting results\n",
    "from sklearn.metrics import accuracy_score, precision_score, recall_score, f1_score, make_scorer, classification_report\n",
    "from sklearn.model_selection import cross_val_score\n",
    "\n",
    "\n",
    "# import seaborn as sns\n",
    "\n",
    "\n",
    "pd.set_option(\"display.max_columns\", None)\n",
    "pd.set_option(\"display.max_rows\", None)\n"
   ]
  },
  {
   "cell_type": "code",
   "execution_count": 3,
   "metadata": {},
   "outputs": [],
   "source": [
    "dataset = pd.read_csv('../problem/churn_data.csv')"
   ]
  },
  {
   "cell_type": "markdown",
   "metadata": {},
   "source": [
    "## Data Cleaning / Preprocessing"
   ]
  },
  {
   "cell_type": "code",
   "execution_count": 5,
   "metadata": {},
   "outputs": [
    {
     "data": {
      "text/plain": [
       "ID                          False\n",
       "PRODUCT                     False\n",
       "CHURN_FLAG                  False\n",
       "TENURE                      False\n",
       "AVG_PLAY_120                False\n",
       "AVG_PLAY_90                  True\n",
       "SERIES_AVG_PLAY_LAST_120    False\n",
       "SERIES_AVG_PLAY_LAST_90      True\n",
       "FILM_AVG_PLAY_LAST_120      False\n",
       "FILM_AVG_PLAY_LAST_90        True\n",
       "dtype: bool"
      ]
     },
     "execution_count": 5,
     "metadata": {},
     "output_type": "execute_result"
    }
   ],
   "source": [
    "dataset.isnull().any()"
   ]
  },
  {
   "cell_type": "code",
   "execution_count": 7,
   "metadata": {},
   "outputs": [
    {
     "name": "stdout",
     "output_type": "stream",
     "text": [
      "DF Shapes\n",
      "(39121,)\n",
      "(39121, 5)\n"
     ]
    }
   ],
   "source": [
    " # separating the label from the data\n",
    "df_CHURN_LABEL = dataset.CHURN_FLAG\n",
    "\n",
    "# As disucssed in the data_exploration.ipynb, all *_90 features are dropped.\n",
    " \n",
    "df_DATA = dataset[['PRODUCT', 'TENURE', 'AVG_PLAY_120', 'SERIES_AVG_PLAY_LAST_120', 'FILM_AVG_PLAY_LAST_120']] # data to include in training with dropped columns\n",
    "df_DATA_no_NaN = df_DATA.fillna(df_DATA.mean())\n",
    "\n",
    "# checking that everything went alright\n",
    "print(\"DF Shapes\")\n",
    "print(df_CHURN_LABEL.shape)\n",
    "print(df_DATA.shape)\n",
    "\n",
    "# Adding one hot encoding since the product is a categorical feature\n",
    "one_hot_encoded_DATA = pd.get_dummies(df_DATA_no_NaN,prefix=['PRODUCT'], columns=['PRODUCT'])\n",
    "\n",
    "# making the data into ndarrays\n",
    "X, Y = np.array(df_DATA_no_NaN), np.array(df_CHURN_LABEL) \n",
    "X_OHE, Y_OHE = np.array(one_hot_encoded_DATA), np.array(df_CHURN_LABEL)\n",
    "\n",
    "# splitting the training and test\n",
    "X_train, X_test, y_train, y_test = train_test_split(X, Y, test_size=0.25, shuffle=True) # without one hot encoding\n",
    "X_train_OHE, X_test_OHE, y_train_OHE, y_test_OHE =  train_test_split(X_OHE, Y_OHE, test_size=0.25, shuffle=True) # with one hot encoding\n"
   ]
  },
  {
   "cell_type": "markdown",
   "metadata": {},
   "source": [
    "## 1. Logistic Regression"
   ]
  },
  {
   "cell_type": "code",
   "execution_count": 8,
   "metadata": {},
   "outputs": [
    {
     "name": "stdout",
     "output_type": "stream",
     "text": [
      "Best parameter (CV score=0.884):\n",
      "{'logistic__C': 0.0001, 'pca__n_components': 5}\n",
      "              precision    recall  f1-score   support\n",
      "\n",
      "           0       0.00      0.00      0.00      1135\n",
      "           1       0.88      1.00      0.94      8646\n",
      "\n",
      "    accuracy                           0.88      9781\n",
      "   macro avg       0.44      0.50      0.47      9781\n",
      "weighted avg       0.78      0.88      0.83      9781\n",
      "\n"
     ]
    },
    {
     "name": "stderr",
     "output_type": "stream",
     "text": [
      "/usr/local/lib/python3.9/site-packages/sklearn/metrics/_classification.py:1221: UndefinedMetricWarning: Precision and F-score are ill-defined and being set to 0.0 in labels with no predicted samples. Use `zero_division` parameter to control this behavior.\n",
      "  _warn_prf(average, modifier, msg_start, len(result))\n"
     ]
    }
   ],
   "source": [
    "pca = PCA()\n",
    "logistic = LogisticRegression(max_iter=10000, tol=1e-4, penalty='l2')\n",
    "pipe = Pipeline(steps=[('pca', pca), ('standardscaler', StandardScaler()), ('logistic', logistic)])\n",
    "param_grid = {\n",
    "    'pca__n_components': [5, 15, 30, 45, 64],\n",
    "    'logistic__C': np.logspace(-4, 4, 4),\n",
    "}\n",
    "search = GridSearchCV(pipe, param_grid, n_jobs=-1)\n",
    "search.fit(X_train_OHE, y_train_OHE)\n",
    "print(\"Best parameter (CV score=%0.3f):\" % search.best_score_)\n",
    "print(search.best_params_)\n",
    "\n",
    "y_pred = search.predict(X_test_OHE)\n",
    "print(classification_report(y_test_OHE, y_pred))\n"
   ]
  },
  {
   "cell_type": "markdown",
   "metadata": {},
   "source": [
    "#### We can see from above that this is a bad choice. Given that the majority of our rows have a `CHURN_FLAG` label of `1`, it's entirely possible to get a relatively high accuracy from the first try (such as `89%`) but with a very small macro f1-score (of `44%`).\n",
    "\n",
    "#### This is a sign of over-fitting, despite having removed redundant features, performed one hot encoding, and added L2 regularization.\n",
    "\n",
    "#### This model should therefore be eliminated."
   ]
  },
  {
   "cell_type": "markdown",
   "metadata": {},
   "source": [
    "## 2. Random Forests"
   ]
  },
  {
   "cell_type": "code",
   "execution_count": 12,
   "metadata": {},
   "outputs": [],
   "source": [
    "def rfc(X_train_set, y_train_set, X_test_set, y_test_set, max_depth=40, random_state=0, min_samples_leaf = 3, min_samples_split = 4, n_estimators = 200, criterion='gini', max_features='auto', class_weight=None):\n",
    "    random_forest = RandomForestClassifier(max_depth=max_depth, random_state=random_state, min_samples_leaf=min_samples_leaf, min_samples_split=min_samples_split, n_estimators=n_estimators, criterion=criterion, max_features=max_features, class_weight=class_weight)\n",
    "    model = random_forest.fit(X_train_set, y_train_set.ravel())\n",
    "\n",
    "    y_pred = model.score(X_test_set, y_test_set)\n",
    "\n",
    "    acc_model = round(model.score(X_test_set, y_test_set) * 100, 2)\n",
    "    print(\"Model Accuracy:\", round(acc_model,2,), \"%\")\n",
    "    y_pred = model.predict(X_test_set)\n",
    "    print(classification_report(y_test_set, y_pred))\n",
    "    return model"
   ]
  },
  {
   "cell_type": "markdown",
   "metadata": {},
   "source": [
    "#### Using the scikit-learn Random Forest classifier already gives us better results, as seen below:\n",
    "\n",
    "#### However, it is clear that recall for `CHURN_FLAG`=`0` needs to be improved in both precision and recall."
   ]
  },
  {
   "cell_type": "code",
   "execution_count": 13,
   "metadata": {},
   "outputs": [
    {
     "name": "stdout",
     "output_type": "stream",
     "text": [
      "Model Accuracy: 80.84 %\n",
      "              precision    recall  f1-score   support\n",
      "\n",
      "           0       0.29      0.46      0.35      1114\n",
      "           1       0.92      0.85      0.89      8667\n",
      "\n",
      "    accuracy                           0.81      9781\n",
      "   macro avg       0.61      0.66      0.62      9781\n",
      "weighted avg       0.85      0.81      0.83      9781\n",
      "\n"
     ]
    }
   ],
   "source": [
    "# scaling data \n",
    "scaler = StandardScaler()\n",
    "X_train_scaled = scaler.fit_transform(X_train, y_train)\n",
    "X_test_scaled = scaler.fit_transform(X_test, y_test)\n",
    "\n",
    "rfc_scaled = rfc(X_train_scaled, y_train, X_test_scaled, y_test)\n"
   ]
  },
  {
   "cell_type": "markdown",
   "metadata": {},
   "source": [
    "#### After taking a quick look at the most important features for this random forest classifier, we find that the `PRODUCT` feature has the lowest importance score of all.\n"
   ]
  },
  {
   "cell_type": "code",
   "execution_count": 14,
   "metadata": {},
   "outputs": [
    {
     "data": {
      "text/plain": [
       "<AxesSubplot:xlabel='feature'>"
      ]
     },
     "execution_count": 14,
     "metadata": {},
     "output_type": "execute_result"
    },
    {
     "data": {
      "image/png": "[encoded data removed]",
      "text/plain": [
       "<Figure size 432x288 with 1 Axes>"
      ]
     },
     "metadata": {},
     "output_type": "display_data"
    }
   ],
   "source": [
    "importances = pd.DataFrame({'feature':df_DATA.columns,'importance':np.round(rfc_scaled.feature_importances_,3)})\n",
    "importances = importances.sort_values('importance',ascending=False).set_index('feature')\n",
    "importances.head(15)\n",
    "importances[:15].plot.bar()"
   ]
  },
  {
   "cell_type": "markdown",
   "metadata": {},
   "source": [
    "#### One option to impvoe recall could be to remove the `PRODUCT` feature. It did (from `48%` to `53%`); but, as shown below, there was quite a decrease in precision. Our macro-averaged F1-score has also dropped."
   ]
  },
  {
   "cell_type": "code",
   "execution_count": 15,
   "metadata": {},
   "outputs": [
    {
     "name": "stdout",
     "output_type": "stream",
     "text": [
      "Model Accuracy: 68.61 %\n",
      "              precision    recall  f1-score   support\n",
      "\n",
      "           0       0.18      0.51      0.27      1114\n",
      "           1       0.92      0.71      0.80      8667\n",
      "\n",
      "    accuracy                           0.69      9781\n",
      "   macro avg       0.55      0.61      0.54      9781\n",
      "weighted avg       0.83      0.69      0.74      9781\n",
      "\n"
     ]
    }
   ],
   "source": [
    "# Random forest classifier with product removed\n",
    "rfc_scaled_no_product = rfc(X_train_scaled[:, 1:], y_train, X_test_scaled[:, 1:], y_test)"
   ]
  },
  {
   "cell_type": "markdown",
   "metadata": {},
   "source": [
    "#### Another way to improve the score would be to use the One Hot Encoded `PRODUCT` feature. \n",
    "\n",
    "### This seems to significantly improve precision while creating a drop in recall, though both are more balanced now.\n",
    "### The overall accuracy and macro f1-scores are higher."
   ]
  },
  {
   "cell_type": "code",
   "execution_count": 17,
   "metadata": {},
   "outputs": [
    {
     "name": "stdout",
     "output_type": "stream",
     "text": [
      "Model Accuracy: 86.19 %\n",
      "              precision    recall  f1-score   support\n",
      "\n",
      "           0       0.41      0.43      0.42      1135\n",
      "           1       0.92      0.92      0.92      8646\n",
      "\n",
      "    accuracy                           0.86      9781\n",
      "   macro avg       0.67      0.67      0.67      9781\n",
      "weighted avg       0.86      0.86      0.86      9781\n",
      "\n"
     ]
    }
   ],
   "source": [
    "X_train_OHE_scaled = scaler.fit_transform(X_train_OHE, y_train)\n",
    "X_test_OHE_scaled = scaler.fit_transform(X_test_OHE, y_test)\n",
    "\n",
    "rfc_scaled_no_product_OHE = rfc(X_train_OHE_scaled, y_train_OHE, X_test_OHE_scaled, y_test_OHE)"
   ]
  },
  {
   "cell_type": "markdown",
   "metadata": {},
   "source": [
    "#### With the latest changes, training the model on a scaled one-hot-encoded dataset has yielded significantly higher precision, but recall remains a problem. This is mainly due to the class imbalance problem.\n",
    "\n",
    "#### To counter this, `sklearn.ensemble.RandomForestClassifier` offers a `class_weight` parameter that associates different weights to different labels. In our case, `CHURN_FLAG=0` is underrepresented.\n",
    "\n",
    "#### We can achieve better results by increasing its weight proportional to `CHURN_FLAG=1`"
   ]
  },
  {
   "cell_type": "code",
   "execution_count": 19,
   "metadata": {},
   "outputs": [
    {
     "name": "stdout",
     "output_type": "stream",
     "text": [
      "Model Accuracy: 84.92 %\n",
      "              precision    recall  f1-score   support\n",
      "\n",
      "           0       0.38      0.45      0.41      1135\n",
      "           1       0.93      0.90      0.91      8646\n",
      "\n",
      "    accuracy                           0.85      9781\n",
      "   macro avg       0.65      0.68      0.66      9781\n",
      "weighted avg       0.86      0.85      0.86      9781\n",
      "\n"
     ]
    }
   ],
   "source": [
    "X_test_OHE_scaled = scaler.fit_transform(X_test_OHE, y_test_OHE)\n",
    "\n",
    "rfc_scaled_no_product_OHE_weighted = rfc(X_train_OHE_scaled, y_train_OHE, X_test_OHE_scaled, y_test_OHE, class_weight={0: 2.5, 1: 0.9})\n"
   ]
  },
  {
   "cell_type": "markdown",
   "metadata": {},
   "source": [
    "#### To find the absolute best model we could get, we can create a grid parameter dictionary focusing on the main hyperparameters."
   ]
  },
  {
   "cell_type": "code",
   "execution_count": 23,
   "metadata": {},
   "outputs": [],
   "source": [
    "\n",
    "grid_param = {\n",
    "    'n_estimators': [100, 300, 500, 800, 1000],\n",
    "    'class_weight': [{0: 2, 1: 1}, {0: 2.5, 1: 0.9}, {0: 3, 1: 1}, {0: 4, 1: 1}, {0: 5, 1: 1}],\n",
    "    'max_depth': [20, 30, 40, 50, 60]\n",
    "}\n",
    "\n",
    "random_forest = RandomForestClassifier(random_state=0, min_samples_leaf = 3, min_samples_split = 4)\n",
    "\n",
    "gd_sr = GridSearchCV(estimator=random_forest,\n",
    "                     param_grid=grid_param,\n",
    "                     scoring={'accuracy': make_scorer(accuracy_score), 'precision': make_scorer(precision_score), 'recall': make_scorer(recall_score), 'f1_macro': make_scorer(f1_score)},\n",
    "                     refit='f1_macro',\n",
    "                     cv=5,\n",
    "                     n_jobs=-1)"
   ]
  },
  {
   "cell_type": "code",
   "execution_count": 27,
   "metadata": {},
   "outputs": [
    {
     "data": {
      "text/plain": [
       "GridSearchCV(cv=5,\n",
       "             estimator=RandomForestClassifier(min_samples_leaf=3,\n",
       "                                              min_samples_split=4,\n",
       "                                              random_state=0),\n",
       "             n_jobs=-1,\n",
       "             param_grid={'class_weight': [{0: 2, 1: 1}, {0: 2.5, 1: 0.9},\n",
       "                                          {0: 3, 1: 1}, {0: 4, 1: 1},\n",
       "                                          {0: 5, 1: 1}],\n",
       "                         'max_depth': [20, 30, 40, 50, 60],\n",
       "                         'n_estimators': [100, 300, 500, 800, 1000]},\n",
       "             refit='f1_macro',\n",
       "             scoring={'accuracy': make_scorer(accuracy_score),\n",
       "                      'f1_macro': make_scorer(f1_score),\n",
       "                      'precision': make_scorer(precision_score),\n",
       "                      'recall': make_scorer(recall_score)})"
      ]
     },
     "execution_count": 27,
     "metadata": {},
     "output_type": "execute_result"
    }
   ],
   "source": [
    "#!# Takes approx. 40 minutes to run\n",
    "\n",
    "gd_sr.fit(X_train_OHE_scaled, y_train_OHE)\n"
   ]
  },
  {
   "cell_type": "code",
   "execution_count": 69,
   "metadata": {},
   "outputs": [
    {
     "name": "stdout",
     "output_type": "stream",
     "text": [
      "RandomForestClassifier(class_weight={0: 2, 1: 1}, max_depth=20,\n",
      "                       min_samples_leaf=3, min_samples_split=4,\n",
      "                       n_estimators=500, random_state=0)\n",
      "{'class_weight': {0: 2, 1: 1}, 'max_depth': 20, 'n_estimators': 500}\n",
      "0.954308926416577\n"
     ]
    }
   ],
   "source": [
    "print(gd_sr.best_estimator_) \n",
    "print(gd_sr.best_params_) # {'class_weight': {0: 2, 1: 1}, 'max_depth': 20, 'n_estimators': 500}\n",
    "print(gd_sr.best_score_) "
   ]
  },
  {
   "cell_type": "code",
   "execution_count": 29,
   "metadata": {},
   "outputs": [
    {
     "name": "stdout",
     "output_type": "stream",
     "text": [
      "Model Accuracy: 85.51 %\n",
      "              precision    recall  f1-score   support\n",
      "\n",
      "           0       0.39      0.44      0.41      1135\n",
      "           1       0.93      0.91      0.92      8646\n",
      "\n",
      "    accuracy                           0.86      9781\n",
      "   macro avg       0.66      0.67      0.67      9781\n",
      "weighted avg       0.86      0.86      0.86      9781\n",
      "\n"
     ]
    }
   ],
   "source": [
    "# training the best model decided by GridSearchCV\n",
    "best_random_forest = RandomForestClassifier(random_state=0, min_samples_leaf = 3, min_samples_split = 4, class_weight={0: 2, 1: 1}, max_depth=20, n_estimators=500)\n",
    "best_model = best_random_forest.fit(X_train_OHE_scaled, y_train_OHE.ravel())\n",
    "\n",
    "y_pred = best_model.score(X_test_OHE_scaled, y_test_OHE)\n",
    "\n",
    "acc_model = round(best_model.score(X_test_OHE_scaled, y_test_OHE) * 100, 2)\n",
    "print(\"Model Accuracy:\", round(acc_model,2,), \"%\")\n",
    "y_pred = best_model.predict(X_test_OHE_scaled)\n",
    "print(classification_report(y_test_OHE, y_pred))\n"
   ]
  },
  {
   "cell_type": "code",
   "execution_count": 71,
   "metadata": {},
   "outputs": [
    {
     "name": "stdout",
     "output_type": "stream",
     "text": [
      "92.0 %\n"
     ]
    }
   ],
   "source": [
    "# our cross-validation score is much higher, but is also trained on a bigger amount of data\n",
    "\n",
    "X_OHE_scaled = scaler.fit_transform(X_OHE, Y_OHE)\n",
    "\n",
    "best_random_forest_cv = RandomForestClassifier(random_state=0, min_samples_leaf = 3, min_samples_split = 4, class_weight={0: 2, 1: 1}, max_depth=40, n_estimators=800)\n",
    "all_accuracies = np.mean(cross_val_score(estimator=best_random_forest_cv, X=X_OHE, y=Y_OHE, cv=10))\n",
    "print(round(all_accuracies,2,)*100, \"%\")"
   ]
  },
  {
   "cell_type": "markdown",
   "metadata": {},
   "source": [
    "## Is this model ready for production? It depends. \n",
    "\n",
    "### Precision and recall are very high for users who will churn. We would need to evaluate the cost of taking action to reduce churn with users who may have been false positives. If catching the biggest amount of churning users is what we are interested in, then we may not need to train the model further. \n",
    "\n",
    "### If, however, action is to be taken with non-churning users (to try to keep them for longer, etc), then we would need to reduce the class imbalance in the model and re-train it or choose another option altogether (such as a neural network, and so on). If the end-goal requires being able to accurately capture majority of users who will not churn (`CHURN_FLAG=0`), then we would aim to increase recall for that class. \n"
   ]
  }
 ],
 "metadata": {
  "interpreter": {
   "hash": "949777d72b0d2535278d3dc13498b2535136f6dfe0678499012e853ee9abcab1"
  },
  "kernelspec": {
   "display_name": "Python 3.9.5 64-bit",
   "name": "python3"
  },
  "language_info": {
   "codemirror_mode": {
    "name": "ipython",
    "version": 3
   },
   "file_extension": ".py",
   "mimetype": "text/x-python",
   "name": "python",
   "nbconvert_exporter": "python",
   "pygments_lexer": "ipython3",
   "version": "3.9.5"
  },
  "orig_nbformat": 4
 },
 "nbformat": 4,
 "nbformat_minor": 2
}
