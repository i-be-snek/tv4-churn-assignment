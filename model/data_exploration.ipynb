{
 "cells": [
  {
   "cell_type": "markdown",
   "metadata": {},
   "source": [
    "### Data Exploration\n"
   ]
  },
  {
   "cell_type": "code",
   "execution_count": 152,
   "metadata": {},
   "outputs": [
    {
     "name": "stdout",
     "output_type": "stream",
     "text": [
      "Requirement already satisfied: pandas in /usr/local/lib/python3.9/site-packages (1.1.5)\n",
      "Requirement already satisfied: pytz>=2017.2 in /usr/local/lib/python3.9/site-packages (from pandas) (2020.4)\n",
      "Requirement already satisfied: python-dateutil>=2.7.3 in /usr/local/lib/python3.9/site-packages (from pandas) (2.8.1)\n",
      "Requirement already satisfied: numpy>=1.15.4 in /usr/local/lib/python3.9/site-packages (from pandas) (1.19.4)\n",
      "Requirement already satisfied: six>=1.5 in /usr/local/lib/python3.9/site-packages (from python-dateutil>=2.7.3->pandas) (1.15.0)\n",
      "\u001b[33mWARNING: You are using pip version 21.1.1; however, version 21.3 is available.\n",
      "You should consider upgrading via the '/usr/local/opt/python@3.9/bin/python3.9 -m pip install --upgrade pip' command.\u001b[0m\n",
      "Note: you may need to restart the kernel to use updated packages.\n",
      "Requirement already satisfied: numpy in /usr/local/lib/python3.9/site-packages (1.19.4)\n",
      "\u001b[33mWARNING: You are using pip version 21.1.1; however, version 21.3 is available.\n",
      "You should consider upgrading via the '/usr/local/opt/python@3.9/bin/python3.9 -m pip install --upgrade pip' command.\u001b[0m\n",
      "Note: you may need to restart the kernel to use updated packages.\n"
     ]
    }
   ],
   "source": [
    "%pip install pandas\n",
    "%pip install numpy"
   ]
  },
  {
   "cell_type": "code",
   "execution_count": 153,
   "metadata": {},
   "outputs": [],
   "source": [
    "import pandas as pd\n",
    "import matplotlib.pyplot as plt\n",
    "import numpy as np\n",
    "\n",
    "pd.set_option(\"display.max_columns\", None)\n",
    "pd.set_option(\"display.max_rows\", None)\n"
   ]
  },
  {
   "cell_type": "code",
   "execution_count": 10,
   "metadata": {},
   "outputs": [],
   "source": [
    "dataset = pd.read_csv('../problem/churn_data.csv')"
   ]
  },
  {
   "cell_type": "markdown",
   "metadata": {},
   "source": [
    "**Question:** What does my data look like?\n",
    "\n",
    "**Conclusion:** An ID column, product in question, churn label, tenure (?), and average play in total, followed by series and film, both for 120 and 90 days. I would assume that `AVG_PLAY_120` is inclusive of data from `AVG_PLAY_90`. I am considering having one of these two features removed for all occurrences (total average, series, and film)."
   ]
  },
  {
   "cell_type": "code",
   "execution_count": 12,
   "metadata": {},
   "outputs": [
    {
     "data": {
      "text/html": [
       "<div>\n",
       "<style scoped>\n",
       "    .dataframe tbody tr th:only-of-type {\n",
       "        vertical-align: middle;\n",
       "    }\n",
       "\n",
       "    .dataframe tbody tr th {\n",
       "        vertical-align: top;\n",
       "    }\n",
       "\n",
       "    .dataframe thead th {\n",
       "        text-align: right;\n",
       "    }\n",
       "</style>\n",
       "<table border=\"1\" class=\"dataframe\">\n",
       "  <thead>\n",
       "    <tr style=\"text-align: right;\">\n",
       "      <th></th>\n",
       "      <th>ID</th>\n",
       "      <th>PRODUCT</th>\n",
       "      <th>CHURN_FLAG</th>\n",
       "      <th>TENURE</th>\n",
       "      <th>AVG_PLAY_120</th>\n",
       "      <th>AVG_PLAY_90</th>\n",
       "      <th>SERIES_AVG_PLAY_LAST_120</th>\n",
       "      <th>SERIES_AVG_PLAY_LAST_90</th>\n",
       "      <th>FILM_AVG_PLAY_LAST_120</th>\n",
       "      <th>FILM_AVG_PLAY_LAST_90</th>\n",
       "    </tr>\n",
       "  </thead>\n",
       "  <tbody>\n",
       "    <tr>\n",
       "      <th>39116</th>\n",
       "      <td>9222230517094271402</td>\n",
       "      <td>0</td>\n",
       "      <td>1</td>\n",
       "      <td>153</td>\n",
       "      <td>291.235</td>\n",
       "      <td>NaN</td>\n",
       "      <td>217.6552</td>\n",
       "      <td>238.4907</td>\n",
       "      <td>73.5800</td>\n",
       "      <td>NaN</td>\n",
       "    </tr>\n",
       "    <tr>\n",
       "      <th>39117</th>\n",
       "      <td>9222242980715296713</td>\n",
       "      <td>2</td>\n",
       "      <td>1</td>\n",
       "      <td>1692</td>\n",
       "      <td>158.131</td>\n",
       "      <td>216.231</td>\n",
       "      <td>56.6317</td>\n",
       "      <td>73.7410</td>\n",
       "      <td>101.4995</td>\n",
       "      <td>142.4905</td>\n",
       "    </tr>\n",
       "    <tr>\n",
       "      <th>39118</th>\n",
       "      <td>9222390979765727046</td>\n",
       "      <td>2</td>\n",
       "      <td>1</td>\n",
       "      <td>1405</td>\n",
       "      <td>362.334</td>\n",
       "      <td>408.783</td>\n",
       "      <td>299.6293</td>\n",
       "      <td>346.0778</td>\n",
       "      <td>62.7047</td>\n",
       "      <td>62.7047</td>\n",
       "    </tr>\n",
       "    <tr>\n",
       "      <th>39119</th>\n",
       "      <td>9222610542868281486</td>\n",
       "      <td>2</td>\n",
       "      <td>1</td>\n",
       "      <td>1462</td>\n",
       "      <td>148.266</td>\n",
       "      <td>135.464</td>\n",
       "      <td>97.5352</td>\n",
       "      <td>90.7156</td>\n",
       "      <td>50.7306</td>\n",
       "      <td>44.7488</td>\n",
       "    </tr>\n",
       "    <tr>\n",
       "      <th>39120</th>\n",
       "      <td>9222923707970402478</td>\n",
       "      <td>2</td>\n",
       "      <td>1</td>\n",
       "      <td>304</td>\n",
       "      <td>93.131</td>\n",
       "      <td>110.009</td>\n",
       "      <td>65.5378</td>\n",
       "      <td>77.3671</td>\n",
       "      <td>27.5931</td>\n",
       "      <td>32.6415</td>\n",
       "    </tr>\n",
       "  </tbody>\n",
       "</table>\n",
       "</div>"
      ],
      "text/plain": [
       "                        ID  PRODUCT  CHURN_FLAG  TENURE  AVG_PLAY_120  \\\n",
       "39116  9222230517094271402        0           1     153       291.235   \n",
       "39117  9222242980715296713        2           1    1692       158.131   \n",
       "39118  9222390979765727046        2           1    1405       362.334   \n",
       "39119  9222610542868281486        2           1    1462       148.266   \n",
       "39120  9222923707970402478        2           1     304        93.131   \n",
       "\n",
       "       AVG_PLAY_90  SERIES_AVG_PLAY_LAST_120  SERIES_AVG_PLAY_LAST_90  \\\n",
       "39116          NaN                  217.6552                 238.4907   \n",
       "39117      216.231                   56.6317                  73.7410   \n",
       "39118      408.783                  299.6293                 346.0778   \n",
       "39119      135.464                   97.5352                  90.7156   \n",
       "39120      110.009                   65.5378                  77.3671   \n",
       "\n",
       "       FILM_AVG_PLAY_LAST_120  FILM_AVG_PLAY_LAST_90  \n",
       "39116                 73.5800                    NaN  \n",
       "39117                101.4995               142.4905  \n",
       "39118                 62.7047                62.7047  \n",
       "39119                 50.7306                44.7488  \n",
       "39120                 27.5931                32.6415  "
      ]
     },
     "execution_count": 12,
     "metadata": {},
     "output_type": "execute_result"
    }
   ],
   "source": [
    "dataset.tail()"
   ]
  },
  {
   "cell_type": "markdown",
   "metadata": {},
   "source": [
    "**Question:** Which of my features are categorical? binary? numeric? what are their data types?\n",
    "\n",
    "**Conclusion:** I have five main products, a churn label `CHURN_FLAG`, and a large number of unique `TENURE` data points. I emailed Josef to ask about that particular feature. Categorical columns have integers, while the remianing numerical ones are floats. "
   ]
  },
  {
   "cell_type": "code",
   "execution_count": 13,
   "metadata": {},
   "outputs": [
    {
     "data": {
      "text/plain": [
       "ID                          39089\n",
       "PRODUCT                         5\n",
       "CHURN_FLAG                      2\n",
       "TENURE                       1734\n",
       "AVG_PLAY_120                36619\n",
       "AVG_PLAY_90                 33791\n",
       "SERIES_AVG_PLAY_LAST_120    38689\n",
       "SERIES_AVG_PLAY_LAST_90     37225\n",
       "FILM_AVG_PLAY_LAST_120      38468\n",
       "FILM_AVG_PLAY_LAST_90       36223\n",
       "dtype: int64"
      ]
     },
     "execution_count": 13,
     "metadata": {},
     "output_type": "execute_result"
    }
   ],
   "source": [
    "dataset.nunique()"
   ]
  },
  {
   "cell_type": "code",
   "execution_count": 44,
   "metadata": {},
   "outputs": [
    {
     "data": {
      "text/plain": [
       "ID                            int64\n",
       "PRODUCT                       int64\n",
       "CHURN_FLAG                    int64\n",
       "TENURE                        int64\n",
       "AVG_PLAY_120                float64\n",
       "AVG_PLAY_90                 float64\n",
       "SERIES_AVG_PLAY_LAST_120    float64\n",
       "SERIES_AVG_PLAY_LAST_90     float64\n",
       "FILM_AVG_PLAY_LAST_120      float64\n",
       "FILM_AVG_PLAY_LAST_90       float64\n",
       "dtype: object"
      ]
     },
     "execution_count": 44,
     "metadata": {},
     "output_type": "execute_result"
    }
   ],
   "source": [
    "dataset.dtypes"
   ]
  },
  {
   "cell_type": "markdown",
   "metadata": {},
   "source": [
    "**Question:** Do I have any missing values in any of my features?\n",
    "\n",
    "**Conclusion:** Yes, every `*_90` column has some values missing. More reason to drop these altogether, although it would be possible to substitute these values with the mean or median of the entire column. "
   ]
  },
  {
   "cell_type": "code",
   "execution_count": 14,
   "metadata": {},
   "outputs": [
    {
     "data": {
      "text/plain": [
       "ID                             0\n",
       "PRODUCT                        0\n",
       "CHURN_FLAG                     0\n",
       "TENURE                         0\n",
       "AVG_PLAY_120                   0\n",
       "AVG_PLAY_90                 3403\n",
       "SERIES_AVG_PLAY_LAST_120       0\n",
       "SERIES_AVG_PLAY_LAST_90     1504\n",
       "FILM_AVG_PLAY_LAST_120         0\n",
       "FILM_AVG_PLAY_LAST_90       2333\n",
       "dtype: int64"
      ]
     },
     "execution_count": 14,
     "metadata": {},
     "output_type": "execute_result"
    }
   ],
   "source": [
    "dataset.isnull().sum()"
   ]
  },
  {
   "cell_type": "markdown",
   "metadata": {},
   "source": [
    "**Question:** What do my mean and median for each feature look like?\n",
    "\n",
    "**Conclusion:** \n",
    "- Mean and median values seem consistent. The data therefore symmetrical and has very little skewness.\n",
    "- We can see a consistent trend between average play time in the last 90 and 120 days for all products, highest among `PRODUCT` of label `2`.\n",
    "- We observe very similar trends in average play in the last 90 to 120 whether or not the users churn. \n"
   ]
  },
  {
   "cell_type": "code",
   "execution_count": 217,
   "metadata": {},
   "outputs": [
    {
     "data": {
      "text/plain": [
       "Text(0.5, 1.0, 'Mean and median for average play in the last 90 and 120 days, by total, series, and film')"
      ]
     },
     "execution_count": 217,
     "metadata": {},
     "output_type": "execute_result"
    },
    {
     "data": {
      "image/png": "[encoded data removed]",
      "text/plain": [
       "<Figure size 432x288 with 1 Axes>"
      ]
     },
     "metadata": {
      "needs_background": "light"
     },
     "output_type": "display_data"
    }
   ],
   "source": [
    "plt.bar(dataset.iloc[:, 4:].columns.tolist(), dataset.iloc[:, 4:].median(), label='median')\n",
    "plt.bar(dataset.iloc[:, 4:].columns.tolist(), dataset.iloc[:, 4:].mean(), color=['lightgray', 'lightblue'], label='mean')\n",
    "plt.xticks(rotation=90);\n",
    "plt.legend()\n",
    "plt.title('Mean and median for average play in the last 90 and 120 days, by total, series, and film')"
   ]
  },
  {
   "cell_type": "code",
   "execution_count": 234,
   "metadata": {},
   "outputs": [],
   "source": [
    "# subcategorybar function source: https://stackoverflow.com/a/48158449/14123992\n",
    "\n",
    "def subcategorybar(X, vals, legend, width=0.8):\n",
    "    n = len(vals)\n",
    "    _X = np.arange(len(X))\n",
    "    for i in range(n):\n",
    "        plt.bar(_X - width/2. + i/float(n)*width, vals[i], \n",
    "                width=width/float(n), align=\"edge\", label=legend[i])   \n",
    "    plt.xticks(_X, X)"
   ]
  },
  {
   "cell_type": "code",
   "execution_count": 235,
   "metadata": {},
   "outputs": [
    {
     "data": {
      "image/png": "[encoded data removed]",
      "text/plain": [
       "<Figure size 432x288 with 1 Axes>"
      ]
     },
     "metadata": {
      "needs_background": "light"
     },
     "output_type": "display_data"
    }
   ],
   "source": [
    "means = dataset.iloc[:, 4:6].groupby(dataset['PRODUCT']).mean()\n",
    "medians = dataset.iloc[:, 4:6].groupby(dataset['PRODUCT']).median()\n",
    "products = dataset['PRODUCT'].unique().tolist()\n",
    "legend = ['mean of AVG_PLAY_90', 'mean of AVG_PLAY_120', 'median of AVG_PLAY_90', 'median of AVG_PLAY_120']\n",
    "\n",
    "subcategorybar(products, [means.AVG_PLAY_90.tolist(),means.AVG_PLAY_120.tolist(),medians.AVG_PLAY_90.tolist(), medians.AVG_PLAY_120.tolist()], legend)\n",
    "\n",
    "plt.title('Mean and median for total average play in the last 90 and 120 days by product')\n",
    "plt.legend()\n",
    "plt.show()\n",
    "\n",
    "\n"
   ]
  },
  {
   "cell_type": "code",
   "execution_count": 237,
   "metadata": {},
   "outputs": [
    {
     "data": {
      "image/png": "[encoded data removed]",
      "text/plain": [
       "<Figure size 432x288 with 1 Axes>"
      ]
     },
     "metadata": {
      "needs_background": "light"
     },
     "output_type": "display_data"
    }
   ],
   "source": [
    "means = dataset.iloc[:, 6:].groupby(dataset['CHURN_FLAG']).mean()\n",
    "medians = dataset.iloc[:, 6:].groupby(dataset['CHURN_FLAG']).median()\n",
    "churn = dataset['CHURN_FLAG'].unique().tolist()\n",
    "legend = ['mean of SERIES_AVG_PLAY_LAST_120', 'mean of SERIES_AVG_PLAY_LAST_90', 'mean of FILM_AVG_PLAY_LAST_120', 'mean of FILM_AVG_PLAY_LAST_90', \n",
    "            'median of SERIES_AVG_PLAY_LAST_120', 'median of SERIES_AVG_PLAY_LAST_90', 'median of FILM_AVG_PLAY_LAST_120', 'median of FILM_AVG_PLAY_LAST_90']\n",
    "\n",
    "\n",
    "subcategorybar(churn, [means.SERIES_AVG_PLAY_LAST_120.tolist(),\n",
    "                        means.SERIES_AVG_PLAY_LAST_90.tolist(),\n",
    "                        means.FILM_AVG_PLAY_LAST_120.tolist(),\n",
    "                        means.FILM_AVG_PLAY_LAST_90.tolist(),\n",
    "                        medians.SERIES_AVG_PLAY_LAST_120.tolist(),\n",
    "                        medians.SERIES_AVG_PLAY_LAST_90.tolist(),\n",
    "                        medians.FILM_AVG_PLAY_LAST_120.tolist(),\n",
    "                        medians.FILM_AVG_PLAY_LAST_90.tolist()\n",
    "], legend)\n",
    "\n",
    "plt.title('Mean and median for total average play in the last 90 and 120 days by churn')\n",
    "plt.legend(loc='upper center', bbox_to_anchor=(0.5, 1.5),\n",
    "          ncol=3, fancybox=True, shadow=True)\n",
    "plt.show()"
   ]
  },
  {
   "cell_type": "markdown",
   "metadata": {},
   "source": [
    "**Question:** Is the data imbalanced?\n",
    "\n",
    "**Conclusion:** More users tend to churn. As mentioned by this article on [Churn Reduction](https://churnkey.co/blog/stop-predicting-churn-start-maximizing-profits), a high churn rate is bound to occur when businesses grow bigger: \n",
    "\n",
    "> the more your business grows, the more customers you'll have cancelling every month"
   ]
  },
  {
   "cell_type": "code",
   "execution_count": 125,
   "metadata": {},
   "outputs": [
    {
     "data": {
      "text/plain": [
       "CHURN_FLAG\n",
       "0     4552\n",
       "1    34569\n",
       "Name: CHURN_FLAG, dtype: int64"
      ]
     },
     "execution_count": 125,
     "metadata": {},
     "output_type": "execute_result"
    }
   ],
   "source": [
    "dataset['CHURN_FLAG'].groupby(dataset['CHURN_FLAG']).count()"
   ]
  }
 ],
 "metadata": {
  "interpreter": {
   "hash": "949777d72b0d2535278d3dc13498b2535136f6dfe0678499012e853ee9abcab1"
  },
  "kernelspec": {
   "display_name": "Python 3.9.5 64-bit",
   "name": "python3"
  },
  "language_info": {
   "codemirror_mode": {
    "name": "ipython",
    "version": 3
   },
   "file_extension": ".py",
   "mimetype": "text/x-python",
   "name": "python",
   "nbconvert_exporter": "python",
   "pygments_lexer": "ipython3",
   "version": "3.9.5"
  },
  "orig_nbformat": 4
 },
 "nbformat": 4,
 "nbformat_minor": 2
}
